{
 "cells": [
  {
   "cell_type": "code",
   "execution_count": null,
   "metadata": {},
   "outputs": [],
   "source": [
    "# Import modules\n",
    "import numpy as np\n",
    "import pandas as pd\n",
    "import matplotlib.pyplot as plt\n",
    "import datetime\n",
    "import time"
   ]
  },
  {
   "cell_type": "code",
   "execution_count": null,
   "metadata": {},
   "outputs": [],
   "source": [
    "# Example tickers list\n",
    "tickers = ['TSLA', 'AAPL', 'MSFT', 'AMZN']"
   ]
  },
  {
   "cell_type": "code",
   "execution_count": null,
   "metadata": {},
   "outputs": [],
   "source": [
    "# Data pull from Yahoo Finance and saving data as .npy files\n",
    "from_unix_timestamp = '-1325635200'\n",
    "to_unix_timestamp = int(time.mktime(datetime.date.fromordinal(datetime.date.today().toordinal()-1).timetuple()))\n",
    "freq = '1d'\n",
    "\n",
    "for ticker in tickers:\n",
    "    path = ('https://query1.finance.yahoo.com/v7/finance/download/' \n",
    "            + str(ticker) \n",
    "            + '?period1=' + str(from_unix_timestamp) \n",
    "            + '&period2=' + str(to_unix_timestamp) \n",
    "            + '&interval=' + str(freq) \n",
    "            + '&events=history')\n",
    "    df = pd.read_csv(path)\n",
    "    \n",
    "    close_prices = np.array(df['Close'])\n",
    "    timestamp = np.array(df['Date'])\n",
    "    closing_prices_with_timestamp = np.array([timestamp, close_prices])\n",
    "    \n",
    "    np.save(ticker + '_closing_prices_' + str(freq) + '_freq.npy', closing_prices_with_timestamp)"
   ]
  },
  {
   "cell_type": "code",
   "execution_count": null,
   "metadata": {},
   "outputs": [],
   "source": [
    "# Open random .npy file to make sure it works\n",
    "data = np.load(str(tickers[2]) + '_closing_prices_' + str(freq) + '_freq.npy', allow_pickle = True)\n",
    "print(data)"
   ]
  },
  {
   "cell_type": "code",
   "execution_count": null,
   "metadata": {},
   "outputs": [],
   "source": []
  }
 ],
 "metadata": {
  "kernelspec": {
   "display_name": "Python 3",
   "language": "python",
   "name": "python3"
  },
  "language_info": {
   "codemirror_mode": {
    "name": "ipython",
    "version": 3
   },
   "file_extension": ".py",
   "mimetype": "text/x-python",
   "name": "python",
   "nbconvert_exporter": "python",
   "pygments_lexer": "ipython3",
   "version": "3.7.3"
  }
 },
 "nbformat": 4,
 "nbformat_minor": 2
}
